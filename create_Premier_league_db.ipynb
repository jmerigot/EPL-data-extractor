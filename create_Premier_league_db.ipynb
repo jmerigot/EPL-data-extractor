{
 "cells": [
  {
   "cell_type": "code",
   "execution_count": 16,
   "metadata": {},
   "outputs": [],
   "source": [
    "import sqlite3\n",
    "import pandas as pd"
   ]
  },
  {
   "cell_type": "markdown",
   "metadata": {},
   "source": [
    "# Relational Database Management System (RDBMS)\n",
    "\n",
    "We chose to use an SQLite DBMS to store and manage our extracted data as it allows us to have both CSV and JSON tables that are well structured, organized, and cleaned ahead of time. The code blocks below show how we import and save all of our files into our `.db`file, and then query the database to read-in a specific table into a pandas dataframe."
   ]
  },
  {
   "cell_type": "markdown",
   "metadata": {},
   "source": [
    "## Creating the Database"
   ]
  },
  {
   "cell_type": "code",
   "execution_count": 17,
   "metadata": {},
   "outputs": [],
   "source": [
    "# created out new SQLite database\n",
    "conn = sqlite3.connect('Premier_League_Data.db')\n",
    "\n",
    "# reading-in the acquired data from the extracted CSV files \n",
    "player_stats = pd.read_csv('C:/Users/jules/OneDrive/Desktop/Data-AES/FinalProject_PremierLeague/premier_league_player_stats.csv')\n",
    "future_matches = pd.read_csv('C:/Users/jules/OneDrive/Desktop/Data-AES/FinalProject_PremierLeague/premier_league_future_matches_05_01_2024.csv')\n",
    "past_matches = pd.read_csv('C:/Users/jules/OneDrive/Desktop/Data-AES/FinalProject_PremierLeague/premier_league_past_matches_05_01_2024.csv')\n",
    "articles = pd.read_csv('C:/Users/jules/OneDrive/Desktop/Data-AES/FinalProject_PremierLeague/articles_premier_leagues.csv')\n",
    "betsBetclic = pd.read_csv('C:/Users/jules/OneDrive/Desktop/Data-AES/FinalProject_PremierLeague/betsBetclic.csv')\n",
    "betsWinamax = pd.read_csv('C:/Users/jules/OneDrive/Desktop/Data-AES/FinalProject_PremierLeague/betsWinamax.csv')\n",
    "\n",
    "# writing the data to a table in the SQLite database\n",
    "player_stats.to_sql('player_stats', conn, if_exists='replace', index=False)\n",
    "future_matches.to_sql('future_matches', conn, if_exists='replace', index=False)\n",
    "past_matches.to_sql('past_matches', conn, if_exists='replace', index=False)\n",
    "articles.to_sql('articles', conn, if_exists='replace', index=False)\n",
    "betsBetclic.to_sql('betsBetclic', conn, if_exists='replace', index=False)\n",
    "betsWinamax.to_sql('betsWinamax', conn, if_exists='replace', index=False)\n",
    "\n",
    "conn.close()"
   ]
  },
  {
   "cell_type": "markdown",
   "metadata": {},
   "source": [
    "## Querying the Database"
   ]
  },
  {
   "cell_type": "code",
   "execution_count": 19,
   "metadata": {},
   "outputs": [
    {
     "name": "stdout",
     "output_type": "stream",
     "text": [
      "             name\n",
      "0    player_stats\n",
      "1  future_matches\n",
      "2    past_matches\n",
      "3        articles\n",
      "4     betsBetclic\n",
      "5     betsWinamax\n",
      "     Unnamed: 0                 team_home                 team_away  \\\n",
      "0             0                  Burnley           Manchester City    \n",
      "1             1                  Arsenal         Nottingham Forest    \n",
      "2             2          AFC Bournemouth           West Ham United    \n",
      "3             3   Brighton & Hove Albion                Luton Town    \n",
      "4             4                  Everton                    Fulham    \n",
      "..          ...                       ...                       ...   \n",
      "193         193          Manchester City          Sheffield United    \n",
      "194         194        Nottingham Forest         Manchester United    \n",
      "195         195        Tottenham Hotspur           AFC Bournemouth    \n",
      "196         196          West Ham United    Brighton & Hove Albion    \n",
      "197         197  Wolverhampton Wanderers                   Everton    \n",
      "\n",
      "                             onefootball_link    datetime  \\\n",
      "0    https://onefootball.com/en/match/2390326  11/08/2023   \n",
      "1    https://onefootball.com/en/match/2390327  12/08/2023   \n",
      "2    https://onefootball.com/en/match/2390328  12/08/2023   \n",
      "3    https://onefootball.com/en/match/2390329  12/08/2023   \n",
      "4    https://onefootball.com/en/match/2390330  12/08/2023   \n",
      "..                                        ...         ...   \n",
      "193  https://onefootball.com/en/match/2390521  30/12/2023   \n",
      "194  https://onefootball.com/en/match/2390522  30/12/2023   \n",
      "195  https://onefootball.com/en/match/2390523  31/12/2023   \n",
      "196  https://onefootball.com/en/match/2390524  02/01/2024   \n",
      "197  https://onefootball.com/en/match/2390525  30/12/2023   \n",
      "\n",
      "                      location  score_home  score_away home_win_proba  \\\n",
      "0                    Turf Moor           0           3             0%   \n",
      "1             Emirates Stadium           2           1             0%   \n",
      "2             Vitality Stadium           1           1             0%   \n",
      "3                 Amex Stadium           4           1             0%   \n",
      "4                Goodison Park           0           1             0%   \n",
      "..                         ...         ...         ...            ...   \n",
      "193             Etihad Stadium           2           0            90%   \n",
      "194            The City Ground           2           1            21%   \n",
      "195  Tottenham Hotspur Stadium           3           1            82%   \n",
      "196             London Stadium           0           0            61%   \n",
      "197           Molineux Stadium           3           0            58%   \n",
      "\n",
      "    draw_proba away_win_proba home_possession  home_total_shots  \\\n",
      "0           0%             0%             34%                 6   \n",
      "1           0%             0%             79%                15   \n",
      "2           0%             0%             63%                14   \n",
      "3           0%             0%             71%                27   \n",
      "4           0%             0%             40%                19   \n",
      "..         ...            ...             ...               ...   \n",
      "193         2%             8%             81%                18   \n",
      "194         3%            76%             45%                 8   \n",
      "195         3%            15%             51%                12   \n",
      "196         7%            32%             31%                 6   \n",
      "197         7%            35%             53%                12   \n",
      "\n",
      "     home_shots_on_target home_duels_won away_possession  away_total_shots  \\\n",
      "0                       1            45%             66%                17   \n",
      "1                       7            46%             21%                 6   \n",
      "2                       5            41%             37%                16   \n",
      "3                      12            47%             29%                 9   \n",
      "4                       9            46%             60%                 9   \n",
      "..                    ...            ...             ...               ...   \n",
      "193                     4            49%             19%                 4   \n",
      "194                     2            55%             55%                10   \n",
      "195                     6            50%             49%                24   \n",
      "196                     2            55%             69%                22   \n",
      "197                     6            51%             47%                10   \n",
      "\n",
      "     away_shots_on_target away_duels_won  \n",
      "0                       8            55%  \n",
      "1                       2            54%  \n",
      "2                       3            59%  \n",
      "3                       3            53%  \n",
      "4                       2            55%  \n",
      "..                    ...            ...  \n",
      "193                     2            51%  \n",
      "194                     5            45%  \n",
      "195                     4            50%  \n",
      "196                     8            45%  \n",
      "197                     0            50%  \n",
      "\n",
      "[198 rows x 19 columns]\n"
     ]
    }
   ],
   "source": [
    "conn = sqlite3.connect('Premier_League_Data.db')\n",
    "\n",
    "# query to list all tables in the database\n",
    "all_tables = pd.read_sql_query(\"SELECT name FROM sqlite_master WHERE type='table';\", conn)\n",
    "print(all_tables)\n",
    "\n",
    "# read a specific table into a pandas DataFrame\n",
    "df_player_stats = pd.read_sql_query(\"SELECT * FROM player_stats\", conn)\n",
    "df_future_matches = pd.read_sql_query(\"SELECT * FROM future_matches\", conn)\n",
    "df_past_matches = pd.read_sql_query(\"SELECT * FROM past_matches\", conn)\n",
    "\n",
    "print(df_past_matches)\n",
    "\n",
    "conn.close()"
   ]
  }
 ],
 "metadata": {
  "kernelspec": {
   "display_name": "base",
   "language": "python",
   "name": "python3"
  },
  "language_info": {
   "codemirror_mode": {
    "name": "ipython",
    "version": 3
   },
   "file_extension": ".py",
   "mimetype": "text/x-python",
   "name": "python",
   "nbconvert_exporter": "python",
   "pygments_lexer": "ipython3",
   "version": "3.11.4"
  }
 },
 "nbformat": 4,
 "nbformat_minor": 2
}

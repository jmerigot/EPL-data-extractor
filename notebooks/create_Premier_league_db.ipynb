{
 "cells": [
  {
   "cell_type": "code",
   "execution_count": 1,
   "metadata": {},
   "outputs": [],
   "source": [
    "import sqlite3\n",
    "import pandas as pd"
   ]
  },
  {
   "cell_type": "markdown",
   "metadata": {},
   "source": [
    "# Relational Database Management System (RDBMS)\n",
    "\n",
    "We chose to use an SQLite DBMS to store and manage our extracted data as it allows us to have both CSV and JSON tables that are well structured, organized, and cleaned ahead of time. The code blocks below show how we import and save all of our files into our `.db`file, and then query the database to read-in a specific table into a pandas dataframe."
   ]
  },
  {
   "cell_type": "markdown",
   "metadata": {},
   "source": [
    "## Creating the Database"
   ]
  },
  {
   "cell_type": "code",
   "execution_count": 2,
   "metadata": {},
   "outputs": [],
   "source": [
    "# created out new SQLite database\n",
    "def drop_unamed_column(df):\n",
    "    if \"Unnamed: 0\" in set(df.columns):\n",
    "        return df.drop(\"Unnamed: 0\", axis=1)\n",
    "    return df\n",
    "\n",
    "conn = sqlite3.connect('../Premier_League_Data.db')\n",
    "\n",
    "# reading-in the acquired data from the extracted CSV files \n",
    "player_stats = drop_unamed_column(pd.read_csv('../data/premier_league_player_stats.csv'))\n",
    "future_matches = drop_unamed_column(pd.read_csv('../data/premier_league_future_matches_05_01_2024.csv')) \n",
    "past_matches = drop_unamed_column(pd.read_csv('../data/premier_league_past_matches_05_01_2024.csv'))\n",
    "articles = drop_unamed_column(pd.read_csv('../data/articles_premier_leagues.csv'))\n",
    "bets_Betclic = drop_unamed_column(pd.read_csv('../data/betclic_bets_PL_matches.csv'))\n",
    "bets_Winamax = drop_unamed_column(pd.read_csv('../data/winamax_bets_PL_matches.csv'))\n",
    "\n",
    "#define the primary keys \n",
    "player_stats.reset_index(inplace=True)\n",
    "future_matches.set_index(['team_home', 'team_away'], inplace=True)\n",
    "past_matches.set_index(['team_home', 'team_away'], inplace=True)\n",
    "\n",
    "# writing the data to a table in the SQLite database\n",
    "future_matches.to_sql('future_matches', conn, if_exists='replace')\n",
    "past_matches.to_sql('past_matches', conn, if_exists='replace')\n",
    "articles.to_sql('articles', conn, if_exists='replace')\n",
    "player_stats.to_sql('player_stats', conn, if_exists='replace')\n",
    "bets_Betclic.to_sql('bets_Betclic', conn, if_exists='replace')\n",
    "bets_Winamax.to_sql('bets_Winamax', conn, if_exists='replace')\n",
    "\n",
    "\n",
    "cursor = conn.cursor()\n",
    "# Enable foreign keys\n",
    "cursor.execute('PRAGMA foreign_keys=on;')\n",
    "\n",
    "\"\"\"# Create foreign key constraints\n",
    "cursor.execute('''\n",
    "    CREATE TABLE IF NOT EXISTS bets_Betclic (\n",
    "        team_home TEXT,\n",
    "        team_away TEXT,\n",
    "        bet_type TEXT,\n",
    "        outcome TEXT,\n",
    "        odd REAL,\n",
    "        index INTEGER, \n",
    "        FOREIGN KEY (team_home, team_away) REFERENCES future_matches\n",
    "    );\n",
    "''')\n",
    "\n",
    "cursor.execute('''\n",
    "    CREATE TABLE IF NOT EXISTS bets_Winamax (\n",
    "        team_home TEXT,\n",
    "        team_away TEXT,\n",
    "        bet_type TEXT,\n",
    "        outcome TEXT,\n",
    "        odd REAL,\n",
    "        percentage REAL,\n",
    "        index INTEGER, \n",
    "        FOREIGN KEY (team_home, team_away) REFERENCES future_matches\n",
    "    );\n",
    "''')\n",
    "\n",
    "cursor.execute('''\n",
    "INSERT INTO bets_Betclic SELECT * FROM bets_Betclic_temp);\n",
    "''')\n",
    "cursor.execute('''\n",
    "INSERT INTO bets_Winamax SELECT * FROM bets_Winamax_temp);\n",
    "''')\n",
    "\n",
    "# Disable foreign keys\n",
    "cursor.execute('PRAGMA foreign_keys=off;')\n",
    "conn.commit()\n",
    "\"\"\"\n",
    "\n",
    "\n",
    "conn.close()"
   ]
  },
  {
   "cell_type": "markdown",
   "metadata": {},
   "source": [
    "## Querying the Database"
   ]
  },
  {
   "cell_type": "code",
   "execution_count": null,
   "metadata": {},
   "outputs": [],
   "source": [
    "conn = sqlite3.connect('../Premier_League_Data.db')\n",
    "\n",
    "\n",
    "# query to list all tables in the database\n",
    "all_tables = pd.read_sql_query(\"SELECT name FROM sqlite_master WHERE type='table';\", conn)\n",
    "print(all_tables)\n",
    "\n",
    "# read a specific table into a pandas DataFrame\n",
    "df_player_stats = pd.read_sql_query(\"SELECT * FROM player_stats\", conn)\n",
    "df_betclic = pd.read_sql_query(\"SELECT * FROM bets_Betclic\", conn)\n",
    "\n",
    "print(df_player_stats)\n",
    "print(df_betclic)\n",
    "\n",
    "conn.close()"
   ]
  },
  {
   "cell_type": "code",
   "execution_count": null,
   "metadata": {},
   "outputs": [],
   "source": [
    "# Connect to the SQLite database\n",
    "conn = sqlite3.connect('../Premier_League_Data.db')\n",
    "cursor = conn.cursor()\n",
    "cursor.execute('PRAGMA foreign_keys = ON')\n",
    "\n",
    "# Retrieve the names of all tables in the database\n",
    "cursor.execute(\"SELECT name FROM sqlite_master WHERE type='table';\")\n",
    "tables = cursor.fetchall()\n",
    "\n",
    "# Extract table names from the result\n",
    "table_names = [table[0] for table in tables]\n",
    "\n",
    "conn.close()"
   ]
  }
 ],
 "metadata": {
  "kernelspec": {
   "display_name": "base",
   "language": "python",
   "name": "python3"
  },
  "language_info": {
   "codemirror_mode": {
    "name": "ipython",
    "version": 3
   },
   "file_extension": ".py",
   "mimetype": "text/x-python",
   "name": "python",
   "nbconvert_exporter": "python",
   "pygments_lexer": "ipython3",
   "version": "3.10.13"
  }
 },
 "nbformat": 4,
 "nbformat_minor": 2
}
